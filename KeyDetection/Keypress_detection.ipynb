{
 "cells": [
  {
   "cell_type": "code",
   "execution_count": 187,
   "metadata": {},
   "outputs": [],
   "source": [
    "import numpy as np\n",
    "import scipy.io\n",
    "\n",
    "import keras\n",
    "from keras.models import Sequential\n",
    "from keras.layers import Conv2D, MaxPooling2D, LSTM, Dense, Dropout, Flatten\n",
    "from keras.layers.core import Permute, Reshape\n",
    "from keras import backend as K"
   ]
  },
  {
   "cell_type": "code",
   "execution_count": 188,
   "metadata": {
    "collapsed": true
   },
   "outputs": [],
   "source": [
    "left_wrist = scipy.io.loadmat('left_data.mat')\n",
    "right_wrist = scipy.io.loadmat('right_data.mat')\n",
    "labels  = scipy.io.loadmat('labels.mat')"
   ]
  },
  {
   "cell_type": "code",
   "execution_count": 189,
   "metadata": {},
   "outputs": [],
   "source": [
    "left_wrist = np.array(left_wrist[\"left_data\"])\n",
    "right_wrist = np.array(right_wrist[\"right_data\"])\n",
    "labels = np.array(labels[\"labels\"])"
   ]
  },
  {
   "cell_type": "code",
   "execution_count": 190,
   "metadata": {},
   "outputs": [
    {
     "name": "stdout",
     "output_type": "stream",
     "text": [
      "(35774, 10)\n",
      "(35774, 10)\n",
      "(33874, 2)\n"
     ]
    }
   ],
   "source": [
    "print(np.shape(left_wrist))\n",
    "print(np.shape(right_wrist))\n",
    "print(np.shape(labels))"
   ]
  },
  {
   "cell_type": "code",
   "execution_count": 191,
   "metadata": {},
   "outputs": [
    {
     "name": "stdout",
     "output_type": "stream",
     "text": [
      "1.51148520273e+12\n",
      "1.51148520273e+12\n",
      "1.51148526774e+12\n"
     ]
    }
   ],
   "source": [
    "print(left_wrist[0,0])\n",
    "print(right_wrist[0,0])\n",
    "print(labels[0,0])"
   ]
  },
  {
   "cell_type": "code",
   "execution_count": 192,
   "metadata": {
    "collapsed": true
   },
   "outputs": [],
   "source": [
    "start_time = labels[0,0]\n",
    "offset = 1000\n",
    "\n",
    "left_wrist[:,0] = left_wrist[:,0] - start_time - offset\n",
    "right_wrist[:,0] = right_wrist[:,0] - start_time - offset\n",
    "\n",
    "left_wrist = left_wrist[left_wrist[:,0]>=0,:];\n",
    "right_wrist = right_wrist[right_wrist[:,0]>=0,:];"
   ]
  },
  {
   "cell_type": "code",
   "execution_count": 193,
   "metadata": {
    "collapsed": true
   },
   "outputs": [],
   "source": [
    "end_time = labels[-1,0]\n",
    "left_wrist = left_wrist[left_wrist[:,0]<=(end_time - start_time),:];\n",
    "right_wrist = right_wrist[right_wrist[:,0]<=(end_time - start_time),:];\n"
   ]
  },
  {
   "cell_type": "code",
   "execution_count": 194,
   "metadata": {
    "scrolled": true
   },
   "outputs": [
    {
     "name": "stdout",
     "output_type": "stream",
     "text": [
      "29.0\n",
      "29.0\n",
      "1.51148526774e+12\n"
     ]
    }
   ],
   "source": [
    "print(left_wrist[0,0])\n",
    "print(right_wrist[0,0])\n",
    "print(labels[0,0])"
   ]
  },
  {
   "cell_type": "code",
   "execution_count": 195,
   "metadata": {
    "collapsed": true
   },
   "outputs": [],
   "source": [
    "labels = labels[:-1,:]"
   ]
  },
  {
   "cell_type": "code",
   "execution_count": 196,
   "metadata": {},
   "outputs": [],
   "source": [
    "ppg = 0\n",
    "if (ppg == 1):\n",
    "    features = np.concatenate((left_wrist[:,1:10],right_wrist[:,1:10]), axis=1)\n",
    "else:\n",
    "    features = np.concatenate((left_wrist[:,1:7],right_wrist[:,1:7]), axis=1)"
   ]
  },
  {
   "cell_type": "code",
   "execution_count": 197,
   "metadata": {},
   "outputs": [
    {
     "name": "stdout",
     "output_type": "stream",
     "text": [
      "(33873, 10)\n",
      "(33873, 10)\n",
      "(33873, 2)\n",
      "(33873, 12)\n"
     ]
    }
   ],
   "source": [
    "print(np.shape(left_wrist))\n",
    "print(np.shape(right_wrist))\n",
    "print(np.shape(labels))\n",
    "print(np.shape(features))"
   ]
  },
  {
   "cell_type": "code",
   "execution_count": 31,
   "metadata": {},
   "outputs": [
    {
     "data": {
      "text/plain": [
       "1511486622660.0"
      ]
     },
     "execution_count": 31,
     "metadata": {},
     "output_type": "execute_result"
    }
   ],
   "source": [
    "end_time = labels[-1,0]\n",
    "end_time"
   ]
  },
  {
   "cell_type": "code",
   "execution_count": 265,
   "metadata": {
    "collapsed": true
   },
   "outputs": [],
   "source": [
    "l = len(features)\n",
    "time_steps = 10\n",
    "n_features = 12\n",
    "dataset = np.zeros((l-time_steps+1,time_steps,n_features))\n"
   ]
  },
  {
   "cell_type": "code",
   "execution_count": 266,
   "metadata": {},
   "outputs": [
    {
     "name": "stdout",
     "output_type": "stream",
     "text": [
      "(33864, 10, 12)\n"
     ]
    }
   ],
   "source": [
    "for i in range(0,l-time_steps+1):\n",
    "    dataset[i,:,:] =  features[i:i+time_steps,:]\n",
    "\n",
    "print(np.shape(dataset))\n",
    "#print(dataset[-1])"
   ]
  },
  {
   "cell_type": "code",
   "execution_count": 267,
   "metadata": {},
   "outputs": [
    {
     "name": "stdout",
     "output_type": "stream",
     "text": [
      "[ 0.  0.  0. ...,  0.  0.  0.]\n",
      "(33864,)\n"
     ]
    }
   ],
   "source": [
    "new_labels = labels[time_steps-1:,1]\n",
    "#new_labels = labels[:,1]\n",
    "labels_l = new_labels.shape[0]\n",
    "for i in range(0,labels_l):\n",
    "    if (new_labels[i] != 0):\n",
    "        new_labels[i] = 1\n",
    "        \n",
    "print(new_labels)\n",
    "print(np.shape(new_labels))"
   ]
  },
  {
   "cell_type": "code",
   "execution_count": 268,
   "metadata": {},
   "outputs": [
    {
     "name": "stdout",
     "output_type": "stream",
     "text": [
      "[ 0.  0.  0. ...,  0.  0.  0.]\n",
      "(33864,)\n"
     ]
    }
   ],
   "source": [
    "k = 0\n",
    "while(k<labels_l):\n",
    "    if (new_labels[k]==1):\n",
    "        new_labels[k+1] = 1\n",
    "        new_labels[k+2] = 1\n",
    "        k = k+3\n",
    "    else:\n",
    "        k=k+1\n",
    "\n",
    "print(new_labels)\n",
    "print(np.shape(new_labels))"
   ]
  },
  {
   "cell_type": "code",
   "execution_count": 269,
   "metadata": {},
   "outputs": [
    {
     "data": {
      "text/plain": [
       "{0.0, 1.0}"
      ]
     },
     "execution_count": 269,
     "metadata": {},
     "output_type": "execute_result"
    }
   ],
   "source": [
    "set(new_labels)"
   ]
  },
  {
   "cell_type": "code",
   "execution_count": 270,
   "metadata": {},
   "outputs": [
    {
     "data": {
      "text/plain": [
       "(6552,)"
      ]
     },
     "execution_count": 270,
     "metadata": {},
     "output_type": "execute_result"
    }
   ],
   "source": [
    "indices = np.where(new_labels == 1)[0]\n",
    "np.shape(indices)"
   ]
  },
  {
   "cell_type": "code",
   "execution_count": 271,
   "metadata": {},
   "outputs": [],
   "source": [
    "limit = 30000\n",
    "X_train0 = dataset[0:limit,:]\n",
    "Y_train = new_labels[0:limit]\n",
    "X_valid0 = dataset[limit:,:]\n",
    "Y_valid = new_labels[limit:]\n",
    "num_classes = 2 # Keypress or not\n",
    "# convert class vectors to binary class matrices\n",
    "Y_train = keras.utils.to_categorical(Y_train, num_classes)\n",
    "Y_valid = keras.utils.to_categorical(Y_valid, num_classes)"
   ]
  },
  {
   "cell_type": "code",
   "execution_count": 272,
   "metadata": {},
   "outputs": [
    {
     "name": "stdout",
     "output_type": "stream",
     "text": [
      "(30000, 10, 12)\n",
      "(30000, 2)\n",
      "(3864, 10, 12)\n",
      "(3864, 2)\n"
     ]
    }
   ],
   "source": [
    "print(np.shape(X_train0))\n",
    "print(np.shape(Y_train))\n",
    "print(np.shape(X_valid0))\n",
    "print(np.shape(Y_valid))"
   ]
  },
  {
   "cell_type": "code",
   "execution_count": 273,
   "metadata": {},
   "outputs": [],
   "source": [
    "#specifying hyper-parameters\n",
    "batch_size = 1024\n",
    "feat_map_num = 16\n",
    "#win_len = 1\n",
    "_, win_len, dim = X_train0.shape\n",
    "#_, dim = X_train0.shape\n",
    "#network_type = 'CNN'\n",
    "#network_type = 'ConvLSTM'\n",
    "network_type = 'LSTM'\n",
    "#network_type = 'MLP'"
   ]
  },
  {
   "cell_type": "code",
   "execution_count": 274,
   "metadata": {
    "collapsed": true
   },
   "outputs": [],
   "source": [
    "def _data_reshaping(X_train, X_valid, network_type):\n",
    "    _, win_len, dim = X_train.shape\n",
    "    #_, dim = X_train.shape\n",
    "    print(network_type)\n",
    "    if network_type=='CNN' or network_type=='ConvLSTM':\n",
    "        \n",
    "        # make it into (frame_number, dimension, window_size, channel=1) for convNet\n",
    "        X_train = np.swapaxes(X_train,1,2)\n",
    "        X_valid = np.swapaxes(X_valid,1,2)\n",
    "\n",
    "        X_train = np.reshape(X_train, (-1, dim, win_len, 1))\n",
    "        X_valid = np.reshape(X_valid, (-1, dim, win_len, 1))\n",
    "    if network_type=='MLP':\n",
    "        X_train = np.reshape(X_train, (-1, dim*win_len))\n",
    "        X_valid = np.reshape(X_valid, (-1, dim*win_len))\n",
    "    \n",
    "    print (np.shape(X_train))\n",
    "    print (np.shape(X_train))\n",
    "    return X_train, X_valid"
   ]
  },
  {
   "cell_type": "code",
   "execution_count": 275,
   "metadata": {
    "collapsed": true
   },
   "outputs": [],
   "source": [
    "def model_variant(model, network_type):\n",
    "    print(network_type)\n",
    "    if network_type == 'ConvLSTM':\n",
    "        \n",
    "        \n",
    "        model.add(Permute((2, 1, 3))) # for swap-dimension\n",
    "        model.add(Reshape((-1,feat_map_num*dim)))\n",
    "        model.add(LSTM(32, return_sequences=False, stateful=False))\n",
    "        model.add(Dropout(0.5))\n",
    "    if network_type == 'CNN':\n",
    "        \n",
    "        model.add(Flatten())\n",
    "        model.add(Dense(32, activation='relu'))\n",
    "        model.add(Dropout(0.5))"
   ]
  },
  {
   "cell_type": "code",
   "execution_count": 276,
   "metadata": {
    "collapsed": true
   },
   "outputs": [],
   "source": [
    "def model_conv(model):\n",
    "    model.add(Conv2D(feat_map_num, kernel_size=(1, 5),\n",
    "                 activation='relu',\n",
    "                 input_shape=(dim, win_len, 1),\n",
    "                 padding='same'))\n",
    "    model.add(MaxPooling2D(pool_size=(1, 2)))\n",
    "    model.add(Dropout(0.5))\n",
    "    model.add(Conv2D(feat_map_num, kernel_size=(1, 5), activation='relu',padding='same'))\n",
    "    model.add(MaxPooling2D(pool_size=(1, 2)))\n",
    "    model.add(Dropout(0.5))"
   ]
  },
  {
   "cell_type": "code",
   "execution_count": 277,
   "metadata": {
    "collapsed": true
   },
   "outputs": [],
   "source": [
    "def model_LSTM(model):\n",
    "    model.add(LSTM(64, \n",
    "               input_shape=(win_len,dim), \n",
    "               return_sequences=True, \n",
    "               stateful=False))\n",
    "    model.add(Dropout(0.5))\n",
    "    model.add(LSTM(64, return_sequences=False, stateful=False))\n",
    "    model.add(Dropout(0.5))"
   ]
  },
  {
   "cell_type": "code",
   "execution_count": 278,
   "metadata": {
    "collapsed": true
   },
   "outputs": [],
   "source": [
    "def model_MLP(model):\n",
    "    model.add(Dense(128, activation='relu', input_shape=(dim*win_len,)))\n",
    "    model.add(Dropout(0.5))\n",
    "    model.add(Dense(128, activation='relu'))\n",
    "    model.add(Dropout(0.5))"
   ]
  },
  {
   "cell_type": "code",
   "execution_count": 279,
   "metadata": {},
   "outputs": [
    {
     "name": "stdout",
     "output_type": "stream",
     "text": [
      "reshaping data for different models ...\n",
      "LSTM\n",
      "(30000, 10, 12)\n",
      "(30000, 10, 12)\n"
     ]
    }
   ],
   "source": [
    "print('reshaping data for different models ...')\n",
    "X_train, X_valid = _data_reshaping(X_train0, X_valid0, network_type)"
   ]
  },
  {
   "cell_type": "code",
   "execution_count": 280,
   "metadata": {},
   "outputs": [
    {
     "name": "stdout",
     "output_type": "stream",
     "text": [
      "building the model ...\n",
      "_________________________________________________________________\n",
      "Layer (type)                 Output Shape              Param #   \n",
      "=================================================================\n",
      "lstm_13 (LSTM)               (None, 10, 64)            19712     \n",
      "_________________________________________________________________\n",
      "dropout_20 (Dropout)         (None, 10, 64)            0         \n",
      "_________________________________________________________________\n",
      "lstm_14 (LSTM)               (None, 64)                33024     \n",
      "_________________________________________________________________\n",
      "dropout_21 (Dropout)         (None, 64)                0         \n",
      "_________________________________________________________________\n",
      "dense_11 (Dense)             (None, 2)                 130       \n",
      "=================================================================\n",
      "Total params: 52,866\n",
      "Trainable params: 52,866\n",
      "Non-trainable params: 0\n",
      "_________________________________________________________________\n"
     ]
    }
   ],
   "source": [
    "print('building the model ...')\n",
    "model = Sequential()\n",
    "if network_type=='CNN' or network_type=='ConvLSTM':\n",
    "    model_conv(model)\n",
    "    model_variant(model, network_type)\n",
    "if network_type=='LSTM':\n",
    "    model_LSTM(model)\n",
    "if network_type=='MLP': \n",
    "    model_MLP(model)\n",
    "model.add(Dense(num_classes, activation='softmax'))\n",
    "model.summary()"
   ]
  },
  {
   "cell_type": "code",
   "execution_count": 281,
   "metadata": {},
   "outputs": [
    {
     "name": "stdout",
     "output_type": "stream",
     "text": [
      "model training ...\n",
      "Train on 30000 samples, validate on 3864 samples\n",
      "Epoch 1/3\n",
      "30000/30000 [==============================] - 20s - loss: 0.5098 - acc: 0.7760 - val_loss: 0.4222 - val_acc: 0.8209\n",
      "Epoch 2/3\n",
      "30000/30000 [==============================] - 17s - loss: 0.4509 - acc: 0.7975 - val_loss: 0.4055 - val_acc: 0.8191\n",
      "Epoch 3/3\n",
      "30000/30000 [==============================] - 18s - loss: 0.4383 - acc: 0.8024 - val_loss: 0.4040 - val_acc: 0.8186\n"
     ]
    }
   ],
   "source": [
    "print('model training ...')\n",
    "epochs = 3\n",
    "model.compile(loss=keras.losses.categorical_crossentropy,\n",
    "              optimizer='adam',\n",
    "              metrics=['accuracy'])\n",
    "\n",
    "history = model.fit(X_train, Y_train,\n",
    "          batch_size=batch_size,\n",
    "          epochs=epochs,\n",
    "          verbose=1,\n",
    "          shuffle=True,       # Changed from True\n",
    "          validation_data=(X_valid, Y_valid))"
   ]
  },
  {
   "cell_type": "code",
   "execution_count": 282,
   "metadata": {},
   "outputs": [
    {
     "name": "stdout",
     "output_type": "stream",
     "text": [
      "calculating confusion matrix ... \n",
      "[[3116   66]\n",
      " [ 635   47]]\n",
      "the mean f1 score:0.51\n"
     ]
    }
   ],
   "source": [
    "from sklearn.metrics import confusion_matrix\n",
    "from sklearn.metrics import f1_score\n",
    "\n",
    "y_pred = np.argmax(model.predict(X_valid), axis=1)\n",
    "y_true = np.argmax(Y_valid, axis=1)\n",
    "print('calculating confusion matrix ... ')\n",
    "cf_matrix = confusion_matrix(y_true, y_pred)\n",
    "print(cf_matrix)\n",
    "class_wise_f1 = np.round(f1_score(y_true, y_pred, average=None)*100)*0.01\n",
    "print('the mean f1 score:{:.2f}'.format(np.mean(class_wise_f1)))"
   ]
  },
  {
   "cell_type": "code",
   "execution_count": null,
   "metadata": {
    "collapsed": true
   },
   "outputs": [],
   "source": []
  },
  {
   "cell_type": "code",
   "execution_count": null,
   "metadata": {
    "collapsed": true
   },
   "outputs": [],
   "source": []
  },
  {
   "cell_type": "code",
   "execution_count": null,
   "metadata": {
    "collapsed": true
   },
   "outputs": [],
   "source": []
  },
  {
   "cell_type": "code",
   "execution_count": null,
   "metadata": {
    "collapsed": true
   },
   "outputs": [],
   "source": []
  }
 ],
 "metadata": {
  "kernelspec": {
   "display_name": "Python 3",
   "language": "python",
   "name": "python3"
  },
  "language_info": {
   "codemirror_mode": {
    "name": "ipython",
    "version": 3
   },
   "file_extension": ".py",
   "mimetype": "text/x-python",
   "name": "python",
   "nbconvert_exporter": "python",
   "pygments_lexer": "ipython3",
   "version": "3.5.3"
  }
 },
 "nbformat": 4,
 "nbformat_minor": 2
}
